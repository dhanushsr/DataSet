{
  "nbformat": 4,
  "nbformat_minor": 0,
  "metadata": {
    "colab": {
      "name": "Memotion Image Feature Extraction.ipynb",
      "provenance": [],
      "collapsed_sections": []
    },
    "kernelspec": {
      "name": "python3",
      "display_name": "Python 3"
    },
    "accelerator": "GPU",
    "widgets": {
      "application/vnd.jupyter.widget-state+json": {
        "0bb1a8938a00417082cb89409a40e5fb": {
          "model_module": "@jupyter-widgets/controls",
          "model_name": "HBoxModel",
          "state": {
            "_view_name": "HBoxView",
            "_dom_classes": [],
            "_model_name": "HBoxModel",
            "_view_module": "@jupyter-widgets/controls",
            "_model_module_version": "1.5.0",
            "_view_count": null,
            "_view_module_version": "1.5.0",
            "box_style": "",
            "layout": "IPY_MODEL_7bc63d3d74f345fe93a9096672068d0c",
            "_model_module": "@jupyter-widgets/controls",
            "children": [
              "IPY_MODEL_5191d968c68f4ec38e85789905cdf320",
              "IPY_MODEL_19b2db4166594003ab953beb88e88bfd"
            ]
          }
        },
        "7bc63d3d74f345fe93a9096672068d0c": {
          "model_module": "@jupyter-widgets/base",
          "model_name": "LayoutModel",
          "state": {
            "_view_name": "LayoutView",
            "grid_template_rows": null,
            "right": null,
            "justify_content": null,
            "_view_module": "@jupyter-widgets/base",
            "overflow": null,
            "_model_module_version": "1.2.0",
            "_view_count": null,
            "flex_flow": null,
            "width": null,
            "min_width": null,
            "border": null,
            "align_items": null,
            "bottom": null,
            "_model_module": "@jupyter-widgets/base",
            "top": null,
            "grid_column": null,
            "overflow_y": null,
            "overflow_x": null,
            "grid_auto_flow": null,
            "grid_area": null,
            "grid_template_columns": null,
            "flex": null,
            "_model_name": "LayoutModel",
            "justify_items": null,
            "grid_row": null,
            "max_height": null,
            "align_content": null,
            "visibility": null,
            "align_self": null,
            "height": null,
            "min_height": null,
            "padding": null,
            "grid_auto_rows": null,
            "grid_gap": null,
            "max_width": null,
            "order": null,
            "_view_module_version": "1.2.0",
            "grid_template_areas": null,
            "object_position": null,
            "object_fit": null,
            "grid_auto_columns": null,
            "margin": null,
            "display": null,
            "left": null
          }
        },
        "5191d968c68f4ec38e85789905cdf320": {
          "model_module": "@jupyter-widgets/controls",
          "model_name": "IntProgressModel",
          "state": {
            "_view_name": "ProgressView",
            "style": "IPY_MODEL_00cb04ae108a4c5799372afdc9687cd1",
            "_dom_classes": [],
            "description": "100%",
            "_model_name": "IntProgressModel",
            "bar_style": "success",
            "max": 874,
            "_view_module": "@jupyter-widgets/controls",
            "_model_module_version": "1.5.0",
            "value": 874,
            "_view_count": null,
            "_view_module_version": "1.5.0",
            "orientation": "horizontal",
            "min": 0,
            "description_tooltip": null,
            "_model_module": "@jupyter-widgets/controls",
            "layout": "IPY_MODEL_49c59936bfc34b51a4a3047c677e0a28"
          }
        },
        "19b2db4166594003ab953beb88e88bfd": {
          "model_module": "@jupyter-widgets/controls",
          "model_name": "HTMLModel",
          "state": {
            "_view_name": "HTMLView",
            "style": "IPY_MODEL_b7f62e9cb88b47fd8a45707040f75fcf",
            "_dom_classes": [],
            "description": "",
            "_model_name": "HTMLModel",
            "placeholder": "​",
            "_view_module": "@jupyter-widgets/controls",
            "_model_module_version": "1.5.0",
            "value": " 874/874 [01:10&lt;00:00, 12.45it/s]",
            "_view_count": null,
            "_view_module_version": "1.5.0",
            "description_tooltip": null,
            "_model_module": "@jupyter-widgets/controls",
            "layout": "IPY_MODEL_7c98ee4dbeb047c78a730abfa38de139"
          }
        },
        "00cb04ae108a4c5799372afdc9687cd1": {
          "model_module": "@jupyter-widgets/controls",
          "model_name": "ProgressStyleModel",
          "state": {
            "_view_name": "StyleView",
            "_model_name": "ProgressStyleModel",
            "description_width": "initial",
            "_view_module": "@jupyter-widgets/base",
            "_model_module_version": "1.5.0",
            "_view_count": null,
            "_view_module_version": "1.2.0",
            "bar_color": null,
            "_model_module": "@jupyter-widgets/controls"
          }
        },
        "49c59936bfc34b51a4a3047c677e0a28": {
          "model_module": "@jupyter-widgets/base",
          "model_name": "LayoutModel",
          "state": {
            "_view_name": "LayoutView",
            "grid_template_rows": null,
            "right": null,
            "justify_content": null,
            "_view_module": "@jupyter-widgets/base",
            "overflow": null,
            "_model_module_version": "1.2.0",
            "_view_count": null,
            "flex_flow": null,
            "width": null,
            "min_width": null,
            "border": null,
            "align_items": null,
            "bottom": null,
            "_model_module": "@jupyter-widgets/base",
            "top": null,
            "grid_column": null,
            "overflow_y": null,
            "overflow_x": null,
            "grid_auto_flow": null,
            "grid_area": null,
            "grid_template_columns": null,
            "flex": null,
            "_model_name": "LayoutModel",
            "justify_items": null,
            "grid_row": null,
            "max_height": null,
            "align_content": null,
            "visibility": null,
            "align_self": null,
            "height": null,
            "min_height": null,
            "padding": null,
            "grid_auto_rows": null,
            "grid_gap": null,
            "max_width": null,
            "order": null,
            "_view_module_version": "1.2.0",
            "grid_template_areas": null,
            "object_position": null,
            "object_fit": null,
            "grid_auto_columns": null,
            "margin": null,
            "display": null,
            "left": null
          }
        },
        "b7f62e9cb88b47fd8a45707040f75fcf": {
          "model_module": "@jupyter-widgets/controls",
          "model_name": "DescriptionStyleModel",
          "state": {
            "_view_name": "StyleView",
            "_model_name": "DescriptionStyleModel",
            "description_width": "",
            "_view_module": "@jupyter-widgets/base",
            "_model_module_version": "1.5.0",
            "_view_count": null,
            "_view_module_version": "1.2.0",
            "_model_module": "@jupyter-widgets/controls"
          }
        },
        "7c98ee4dbeb047c78a730abfa38de139": {
          "model_module": "@jupyter-widgets/base",
          "model_name": "LayoutModel",
          "state": {
            "_view_name": "LayoutView",
            "grid_template_rows": null,
            "right": null,
            "justify_content": null,
            "_view_module": "@jupyter-widgets/base",
            "overflow": null,
            "_model_module_version": "1.2.0",
            "_view_count": null,
            "flex_flow": null,
            "width": null,
            "min_width": null,
            "border": null,
            "align_items": null,
            "bottom": null,
            "_model_module": "@jupyter-widgets/base",
            "top": null,
            "grid_column": null,
            "overflow_y": null,
            "overflow_x": null,
            "grid_auto_flow": null,
            "grid_area": null,
            "grid_template_columns": null,
            "flex": null,
            "_model_name": "LayoutModel",
            "justify_items": null,
            "grid_row": null,
            "max_height": null,
            "align_content": null,
            "visibility": null,
            "align_self": null,
            "height": null,
            "min_height": null,
            "padding": null,
            "grid_auto_rows": null,
            "grid_gap": null,
            "max_width": null,
            "order": null,
            "_view_module_version": "1.2.0",
            "grid_template_areas": null,
            "object_position": null,
            "object_fit": null,
            "grid_auto_columns": null,
            "margin": null,
            "display": null,
            "left": null
          }
        }
      }
    }
  },
  "cells": [
    {
      "cell_type": "code",
      "metadata": {
        "id": "tdSJOojmuW2a",
        "colab_type": "code",
        "colab": {}
      },
      "source": [
        "import torch\n",
        "import torch.nn as nn\n",
        "import torchvision.models as models\n",
        "import torchvision.transforms as transforms\n",
        "from torch.autograd import Variable\n",
        "from PIL import Image,ImageFile\n",
        "ImageFile.LOAD_TRUNCATED_IMAGES = True\n",
        "from tqdm.notebook import tqdm\n",
        "import numpy as np"
      ],
      "execution_count": 0,
      "outputs": []
    },
    {
      "cell_type": "markdown",
      "metadata": {
        "id": "KRw8sQBG46Rg",
        "colab_type": "text"
      },
      "source": [
        "# Loading Dataset"
      ]
    },
    {
      "cell_type": "code",
      "metadata": {
        "id": "Bu3rypWu4Upv",
        "colab_type": "code",
        "outputId": "02b1c378-bfc2-4d56-eab3-1e2dfaa654bb",
        "colab": {
          "base_uri": "https://localhost:8080/",
          "height": 34
        }
      },
      "source": [
        "from pathlib import Path\n",
        "import requests\n",
        "import subprocess\n",
        "URL = \"https://storage.googleapis.com/kaggle-data-sets/531544/973292/bundle/archive.zip?GoogleAccessId=web-data@kaggle-161607.iam.gserviceaccount.com&Expires=1585134065&Signature=eZK7Px2EobN2PI61sybJ9crRRrgcu3RXJvjZOAKPkHoCdcbYnxYOWnPngYzfn6rinhIsArZReWDug8PaLaFv5nZRJ%2Fbv%2Bh2PWJV795cb%2F5J6fVRzCsc7cqu0ojcB%2BjKnoRK6KprK7bU6lg4YIj10cL1Wf%2FggmtgASkxiK3DBCOnAuj3l6%2BplPI%2B1Cpnhlpov07gewbnGhRhI1eCVGgeaj5hBxT%2F8NEvZ73OgztLsRLiKFDNIHm9PZ3RnanLIejVr7eKmDd0Er9pyMqir0wftgsCsh%2FW%2F1cknCSGeZhZOsZB%2BO1oUox3yLLsVRLRi384UCpuvE6g7b3XLiGR%2FGsCtpA%3D%3D&response-content-disposition=attachment%3B+filename%3Dmemotion-dataset-7k.zip\"\n",
        "\n",
        "DATA_PATH = Path(\"data\")\n",
        "PATH = DATA_PATH\n",
        "\n",
        "PATH.mkdir(parents=True, exist_ok=True)\n",
        "\n",
        "# URL = \"http://deeplearning.net/data/mnist/\"\n",
        "\n",
        "FILENAME = \"memotion-dataset.zip\"\n",
        "\n",
        "if not (PATH / FILENAME).exists():\n",
        "        content = requests.get(URL + FILENAME).content\n",
        "        (PATH / FILENAME).open(\"wb\").write(content)\n",
        "\n",
        "subprocess.call([\"unzip\", \"-qq\", PATH/FILENAME, \"-d\", DATA_PATH])"
      ],
      "execution_count": 2,
      "outputs": [
        {
          "output_type": "execute_result",
          "data": {
            "text/plain": [
              "1"
            ]
          },
          "metadata": {
            "tags": []
          },
          "execution_count": 2
        }
      ]
    },
    {
      "cell_type": "code",
      "metadata": {
        "id": "WLiq7jf28Mlf",
        "colab_type": "code",
        "colab": {}
      },
      "source": [
        "from torch.utils.data import Dataset,DataLoader\n",
        "import pandas as pd\n",
        "\n",
        "class MemotionDatasetImage(Dataset):\n",
        "    def __init__(self, pickle_file, image_dir, transform=None):\n",
        "        self.df = pd.read_pickle(pickle_file)\n",
        "        self.image_dir = image_dir\n",
        "        self.transform = transform\n",
        "    \n",
        "    def __len__(self):\n",
        "        return len(self.df)\n",
        "    \n",
        "    def __getitem__(self, idx):\n",
        "        row = self.df.iloc[idx]\n",
        "        image = Image.open(self.image_dir+'/'+row.image_name).convert('RGB')\n",
        "        if self.transform:\n",
        "            tensor = self.transform(image)\n",
        "        else:\n",
        "          tensor = transform.toTensor(image)\n",
        "        return tensor"
      ],
      "execution_count": 0,
      "outputs": []
    },
    {
      "cell_type": "code",
      "metadata": {
        "id": "R6kqBjuzuYOB",
        "colab_type": "code",
        "colab": {}
      },
      "source": [
        "dataset = MemotionDatasetImage(\n",
        "    'data/memotion_dataset_7k/labels_pd_pickle',\n",
        "    'data/memotion_dataset_7k/images',\n",
        "    transforms.Compose([\n",
        "        transforms.Resize((224, 224)),\n",
        "        transforms.ToTensor(),\n",
        "        transforms.Normalize(mean=[0.485, 0.456, 0.406],\n",
        "                                 std=[0.229, 0.224, 0.225])\n",
        "    ]))"
      ],
      "execution_count": 0,
      "outputs": []
    },
    {
      "cell_type": "code",
      "metadata": {
        "id": "a1uRMn8Zu7MC",
        "colab_type": "code",
        "colab": {}
      },
      "source": [
        "def extract_visual_features(model_name, layer_name, dataset):\n",
        "    get_model = getattr(models, model_name)\n",
        "    model = get_model(pretrained=True)\n",
        "    model = model.cuda()\n",
        "    model.eval()\n",
        "\n",
        "    features = []\n",
        "    def hook(module, input, output):\n",
        "        N,C,H,W = output.shape\n",
        "        output = output.reshape(N,C,-1)\n",
        "        features.append(output.mean(dim=2).cpu().detach().numpy())\n",
        "    handle = model._modules.get(layer_name).register_forward_hook(hook)\n",
        "    dataloader = DataLoader(dataset, batch_size=8, shuffle=False, num_workers=4)\n",
        "    \n",
        "    for i_batch, inputs in tqdm(enumerate(dataloader), total=len(dataloader)):\n",
        "        _ = model(inputs.cuda())\n",
        "\n",
        "    features = np.concatenate(features)\n",
        "\n",
        "    features = pd.DataFrame(features)\n",
        "    features = features.add_prefix('IMAGE_')\n",
        "    features.loc[:,'image_name'] = dataset.df['image_name']\n",
        "    \n",
        "    handle.remove()\n",
        "    del model\n",
        "\n",
        "    return features"
      ],
      "execution_count": 0,
      "outputs": []
    },
    {
      "cell_type": "code",
      "metadata": {
        "id": "weDA8GM-u_AW",
        "colab_type": "code",
        "colab": {
          "base_uri": "https://localhost:8080/",
          "height": 188,
          "referenced_widgets": [
            "0bb1a8938a00417082cb89409a40e5fb",
            "7bc63d3d74f345fe93a9096672068d0c",
            "5191d968c68f4ec38e85789905cdf320",
            "19b2db4166594003ab953beb88e88bfd",
            "00cb04ae108a4c5799372afdc9687cd1",
            "49c59936bfc34b51a4a3047c677e0a28",
            "b7f62e9cb88b47fd8a45707040f75fcf",
            "7c98ee4dbeb047c78a730abfa38de139"
          ]
        },
        "outputId": "5f3dc2e5-f400-463f-c1d2-55b08eac2566"
      },
      "source": [
        "image_features = extract_visual_features('resnet18', 'avgpool', dataset)"
      ],
      "execution_count": 8,
      "outputs": [
        {
          "output_type": "display_data",
          "data": {
            "application/vnd.jupyter.widget-view+json": {
              "model_id": "0bb1a8938a00417082cb89409a40e5fb",
              "version_minor": 0,
              "version_major": 2
            },
            "text/plain": [
              "HBox(children=(IntProgress(value=0, max=874), HTML(value='')))"
            ]
          },
          "metadata": {
            "tags": []
          }
        },
        {
          "output_type": "stream",
          "text": [
            "/usr/local/lib/python3.6/dist-packages/PIL/TiffImagePlugin.py:788: UserWarning: Corrupt EXIF data.  Expecting to read 2 bytes but only got 0. \n",
            "  warnings.warn(str(msg))\n",
            "/usr/local/lib/python3.6/dist-packages/PIL/Image.py:932: UserWarning: Palette images with Transparency expressed in bytes should be converted to RGBA images\n",
            "  \"Palette images with Transparency expressed in bytes should be \"\n",
            "/usr/local/lib/python3.6/dist-packages/PIL/Image.py:932: UserWarning: Palette images with Transparency expressed in bytes should be converted to RGBA images\n",
            "  \"Palette images with Transparency expressed in bytes should be \"\n"
          ],
          "name": "stderr"
        },
        {
          "output_type": "stream",
          "text": [
            "\n"
          ],
          "name": "stdout"
        }
      ]
    },
    {
      "cell_type": "code",
      "metadata": {
        "id": "eC2Te7yKGqC0",
        "colab_type": "code",
        "colab": {}
      },
      "source": [
        "image_features.to_pickle('image_features_pd_pickle')"
      ],
      "execution_count": 0,
      "outputs": []
    }
  ]
}